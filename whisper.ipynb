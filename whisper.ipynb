{
 "cells": [
  {
   "cell_type": "code",
   "execution_count": 1,
   "metadata": {},
   "outputs": [
    {
     "name": "stderr",
     "output_type": "stream",
     "text": [
      "c:\\Users\\farns\\anaconda3\\envs\\transformer\\Lib\\site-packages\\tqdm\\auto.py:21: TqdmWarning: IProgress not found. Please update jupyter and ipywidgets. See https://ipywidgets.readthedocs.io/en/stable/user_install.html\n",
      "  from .autonotebook import tqdm as notebook_tqdm\n"
     ]
    }
   ],
   "source": [
    "import torch\n",
    "from transformers import AutoModelForSpeechSeq2Seq, AutoProcessor, pipeline\n",
    "from datasets import load_dataset"
   ]
  },
  {
   "cell_type": "code",
   "execution_count": 2,
   "metadata": {},
   "outputs": [],
   "source": [
    "device = \"cuda:0\" if torch.cuda.is_available() else \"cpu\"\n",
    "torch_dtype = torch.float16 if torch.cuda.is_available() else torch.float32\n",
    "\n",
    "model_id = \"openai/whisper-large-v3-turbo\""
   ]
  },
  {
   "cell_type": "code",
   "execution_count": 3,
   "metadata": {},
   "outputs": [
    {
     "name": "stderr",
     "output_type": "stream",
     "text": [
      "c:\\Users\\farns\\anaconda3\\envs\\transformer\\Lib\\site-packages\\huggingface_hub\\file_download.py:139: UserWarning: `huggingface_hub` cache-system uses symlinks by default to efficiently store duplicated files but your machine does not support them in C:\\Users\\farns\\.cache\\huggingface\\hub\\models--openai--whisper-large-v3-turbo. Caching files will still work but in a degraded version that might require more space on your disk. This warning can be disabled by setting the `HF_HUB_DISABLE_SYMLINKS_WARNING` environment variable. For more details, see https://huggingface.co/docs/huggingface_hub/how-to-cache#limitations.\n",
      "To support symlinks on Windows, you either need to activate Developer Mode or to run Python as an administrator. In order to activate developer mode, see this article: https://docs.microsoft.com/en-us/windows/apps/get-started/enable-your-device-for-development\n",
      "  warnings.warn(message)\n"
     ]
    }
   ],
   "source": [
    "model = AutoModelForSpeechSeq2Seq.from_pretrained(\n",
    "    model_id, torch_dtype=torch_dtype, low_cpu_mem_usage=True, use_safetensors=True\n",
    ")\n",
    "model.to(device)\n",
    "\n",
    "processor = AutoProcessor.from_pretrained(model_id)"
   ]
  },
  {
   "cell_type": "code",
   "execution_count": 4,
   "metadata": {},
   "outputs": [],
   "source": [
    "pipe = pipeline(\n",
    "    \"automatic-speech-recognition\",\n",
    "    model=model,\n",
    "    tokenizer=processor.tokenizer,\n",
    "    feature_extractor=processor.feature_extractor,\n",
    "    torch_dtype=torch_dtype,\n",
    "    device=device,\n",
    ")\n",
    "\n"
   ]
  },
  {
   "cell_type": "code",
   "execution_count": 6,
   "metadata": {},
   "outputs": [
    {
     "name": "stderr",
     "output_type": "stream",
     "text": [
      "c:\\Users\\farns\\anaconda3\\envs\\transformer\\Lib\\site-packages\\transformers\\models\\whisper\\generation_whisper.py:509: FutureWarning: The input name `inputs` is deprecated. Please make sure to use `input_features` instead.\n",
      "  warnings.warn(\n",
      "Due to a bug fix in https://github.com/huggingface/transformers/pull/28687 transcription using a multilingual Whisper will default to language detection followed by transcription instead of translation to English.This might be a breaking change for your use case. If you want to instead always translate your audio to English, make sure to pass `language='en'`.\n",
      "Passing a tuple of `past_key_values` is deprecated and will be removed in Transformers v4.43.0. You should pass an instance of `EncoderDecoderCache` instead, e.g. `past_key_values=EncoderDecoderCache.from_legacy_cache(past_key_values)`.\n"
     ]
    }
   ],
   "source": [
    "result = pipe('audio.mp3', return_timestamps=True)\n"
   ]
  },
  {
   "cell_type": "code",
   "execution_count": 7,
   "metadata": {},
   "outputs": [
    {
     "name": "stdout",
     "output_type": "stream",
     "text": [
      " If you asked a child to draw a tank from memory, they'd probably draw something like this, with the turret mounted somewhere in the middle of the vehicle. And that's usually the case. Historically, the vast majority of tank designs mount the turret in the centre of the hull. But today in this video, we're going to explore another possibility, one that has its own distinct advantages and disadvantages, mounting the turret in the rear. In reality, mounting the turret in the middle of the tank makes sense most of the time, and it usually looks something like this. The driver is in the front of the vehicle along with the transmission. Behind him is the turret, mounting the vehicles main armament and housing the other crew members. Ammunition is either stored inside the turret or below it in the walls or floor of the hull, and behind the turret crew is the engine. And this layout works fine, but it does come with some disadvantages. The first of which, and maybe the most significant in terms of tank design, is weight, or to be more specific, balance. Let's say you're designing a heavy tank, with a large gun, and a lot of frontal armour. The centre of gravity of the tank will move farther and farther forward, the more armour you add to the vehicle, as both the face of the turret and the front of the hull are in front of centre. For relatively light vehicles this is not a big issue because engines are relatively heavy, but for heavier tanks this definitely caused problems. Another issue is the fact you have to actually connect your transmission to your engine using a drivetrain. This will need to run underneath the turret, meaning the entire vehicle needs to be significantly taller to compensate, giving it a larger silhouette, and, in vehicles that don't have a turret basket, getting in the way of the gun crew. A less important but still valid problem is gun overhang. With a long, high velocity anti-tank gun, the barrel tends to extend quite far over the front of the vehicle, meaning it can get caught on obstacles, or limit the vehicle's ability to cross trenches or navigate hilly terrain. And so, designers began to experiment with a new idea, mounting the turret at the rear of the vehicle, with the engine in the middle. This meant no gun overhang, no drivetrain running the length of the vehicle, and for a heavier vehicle, the weight distribution was a lot more palatable. The turret front and hull front were either side at the centre of gravity, meaning it stayed roughly in the middle of the vehicle. Another advantage of this layout is that you have a much larger engine compartment, rather than it being split either side of the turret. This allows you to mount a larger, combined power pack, and can facilitate prototype designs like Porsche's Tiger P, Ferdinand or the VK4502P that all used a huge electromechanical transmission system. A side effect of having the engine mounted in front of the turret crew is that it makes the vehicle significantly more survivable from the front. To reach the crew at the rear, an incoming shell would have to penetrate not only the frontal armour of the vehicle, but pass through the entire engine compartment, which in reality is just a big block of steel. In fact, Israeli designers, after experiencing significant tank losses in the Six Day and Yom Kippur wars, placed the engine in the front of their new Merkava vehicles to try and take advantage of the extra protection this gave to the crew, with the new turret place a lot closer to the rear of the vehicle. But the Merkava is unique, in that the vehicle is not just a tank, but can also carry infantry. Thanks to the placement of the engine and the turret, the tank can mount and dismount infantry through the rear of the vehicle, with space for up to 6 fully armed troops as well as the 4 crew members. So why is Merkava the only tank with a rear mounted turret? Why does everyone else stick with the middle mounted design? Simply put, it just makes the most sense. One of the main issues with rear mounted turrets is the driver. You can put him in two places, neither of which are ideal. In front of the engine, like on the Ferdinand, or you put him behind the engine, like in Merkava. The issue with the former is that it's really difficult to communicate with him, especially back when electronics were not as reliable as they are today. The commander would have to rely on an intercom system to talk to arguably the most important member of his crew, with an incredibly noisy engine in the way. So, move him to the rear with the rest of the crew, but then his visibility is poor, having to peer out between the turret and the hull trying to look over the entire front half of the vehicle. Another reason we don't see the rear mounted turret is that the drivetrain issue was mostly solved with the addition of the automatic transmission. Historically you had to have the transmission at the front so the driver could manually actually operate it, but nowadays it's all automatic, meaning the engine and transmission can be united at the rear of vehicle, with the driver operating the throttle and steering at the front, like in modern vehicles like the M1 Abrams. And lastly, rear mounted turrets have quite poor gun depression, limited by the hull front stretching out in front of the vehicle. So again, advantages and disadvantages, pros and cons, you know how it is. We will no doubt see the centre mounted turret remain the status quo moving forward, but there are vehicles out there currently like the Merkava that are blazing a trail for the rear mounted turret designs. The US Army's new M10 Booker can be considered somewhat of a pocket Merkava, with its front mounted engine and rear mounted turret and is set to enter service in the next year or so. Maybe the era of the rear mounted turret is only beginning, we'll see. Thank you so much for watching, I'm glad you're back home making videos again and you can look forward to more regular content moving forward. Remember to like and subscribe down below, join the discord and consider supporting me on Patreon. See you in the next one. Thank you.\n"
     ]
    }
   ],
   "source": [
    "print(result['text'])"
   ]
  }
 ],
 "metadata": {
  "kernelspec": {
   "display_name": "transformer",
   "language": "python",
   "name": "python3"
  },
  "language_info": {
   "codemirror_mode": {
    "name": "ipython",
    "version": 3
   },
   "file_extension": ".py",
   "mimetype": "text/x-python",
   "name": "python",
   "nbconvert_exporter": "python",
   "pygments_lexer": "ipython3",
   "version": "3.12.7"
  }
 },
 "nbformat": 4,
 "nbformat_minor": 2
}
