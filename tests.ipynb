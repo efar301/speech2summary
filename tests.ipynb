{
 "cells": [
  {
   "cell_type": "code",
   "execution_count": null,
   "metadata": {},
   "outputs": [
    {
     "name": "stderr",
     "output_type": "stream",
     "text": [
      "c:\\Users\\farns\\anaconda3\\envs\\transformer\\Lib\\site-packages\\tqdm\\auto.py:21: TqdmWarning: IProgress not found. Please update jupyter and ipywidgets. See https://ipywidgets.readthedocs.io/en/stable/user_install.html\n",
      "  from .autonotebook import tqdm as notebook_tqdm\n"
     ]
    }
   ],
   "source": [
    "from transformers import BartForConditionalGeneration, BartTokenizer\n",
    "from langchain.text_splitter import RecursiveCharacterTextSplitter\n",
    "from transcriptor import get_transcript\n",
    "import math\n",
    "import torch\n",
    "import textwrap\n",
    "from tqdm import tqdm\n",
    "import re \n"
   ]
  },
  {
   "cell_type": "code",
   "execution_count": null,
   "metadata": {},
   "outputs": [
    {
     "name": "stdout",
     "output_type": "stream",
     "text": [
      "[youtube] Extracting URL: https://www.youtube.com/watch?v=u_6NUXKe65A\n",
      "[youtube] u_6NUXKe65A: Downloading webpage\n",
      "[youtube] u_6NUXKe65A: Downloading ios player API JSON\n",
      "[youtube] u_6NUXKe65A: Downloading mweb player API JSON\n",
      "[youtube] u_6NUXKe65A: Downloading m3u8 information\n",
      "[info] u_6NUXKe65A: Downloading 1 format(s): 251\n",
      "[download] Destination: audio.webm\n",
      "[download] 100% of   14.63MiB in 00:00:01 at 11.02MiB/s    \n",
      "[ExtractAudio] Destination: audio.mp3\n",
      "Deleting original file audio.webm (pass -k to keep)\n"
     ]
    },
    {
     "name": "stderr",
     "output_type": "stream",
     "text": [
      "c:\\Users\\farns\\anaconda3\\envs\\transformer\\Lib\\site-packages\\transformers\\models\\whisper\\generation_whisper.py:509: FutureWarning: The input name `inputs` is deprecated. Please make sure to use `input_features` instead.\n",
      "  warnings.warn(\n",
      "Due to a bug fix in https://github.com/huggingface/transformers/pull/28687 transcription using a multilingual Whisper will default to language detection followed by transcription instead of translation to English.This might be a breaking change for your use case. If you want to instead always translate your audio to English, make sure to pass `language='en'`.\n",
      "Passing a tuple of `past_key_values` is deprecated and will be removed in Transformers v4.43.0. You should pass an instance of `EncoderDecoderCache` instead, e.g. `past_key_values=EncoderDecoderCache.from_legacy_cache(past_key_values)`.\n"
     ]
    },
    {
     "name": "stdout",
     "output_type": "stream",
     "text": [
      "Transcription Completed!\n"
     ]
    }
   ],
   "source": [
    "t = get_transcript('https://www.youtube.com/watch?v=u_6NUXKe65A')\n",
    "print('Transcription Completed!') "
   ]
  },
  {
   "cell_type": "code",
   "execution_count": null,
   "metadata": {},
   "outputs": [
    {
     "name": "stdout",
     "output_type": "stream",
     "text": [
      " Hi, this is Matt Baker. Every now and then on this channel, I like to take a look at a really old chart rather than one that was designed on a\n",
      "computer. Personally, I find these vintage charts beautiful and there's often things that we can still learn from them even if they are out of date.\n",
      "So far, we've looked at Adam's Synchronological Chart of History, The Bird's Eye View of the Life of Christ, and The Histamap of Religion by John B.\n",
      "Sparks. Well, today, since the US election is coming up, I thought I'd take a look at this timeline of US political parties. It was published back in\n",
      "1880 as a fold-out chart in this book called Conspectus of the History of Political Parties and the Federal Government by Walter R. Houghton of\n",
      "Indiana University. Of course, nowadays US politics is dominated by the Republicans and and the Democrats. But this was not always the case. Prior to\n",
      "the emergence of the current parties, there were actually several other older parties such as the Federalists, the Democratic Republicans, and the\n",
      "Whigs. By taking a look at these older parties, it will help us better understand the origins of the two current parties. So let's start here with the\n",
      "period before the start of George Washington's presidency. Now since the American colonies were originally British, they initially had the same two\n",
      "political parties that Great Britain had, which were the Tories and the Whigs. Basically the Tories were those who strongly supported the monarchy\n",
      "whereas the Whigs were those who wanted to give local representatives more power. During the American Revolution, it was obviously the Whigs, also\n",
      "known as Patriots, who dominated, the loyalist Tories disappearing entirely in 1783, which is when the British finally recognized US independence.\n",
      "Thus, because the US had done away with monarchy altogether, they were left with just a single party, the Whigs. But this situation did not last for\n",
      "long. Although the US was now a republic, there were differences in opinion over how strong the new federal government should be. Those Those who\n",
      "wanted a strong federal government, with things like a central bank and a standing army, became known as Federalists, whereas those who wanted more\n",
      "state sovereignty were called Anti-Federalists. The Federalists were largely responsible for creating the US Constitution, whereas the Anti-\n",
      "Federalists, who were unhappy with it, were responsible for getting the first 10 amendments added, which collectively are known as the US Bill of\n",
      "Rights. Now technically, the first president, George Washington, did not belong to either faction. However, most of the members of his administration\n",
      "were definitely Federalists. In particular, his Secretary of the Treasury, Alexander Hamilton, who is considered to be the official founder of the\n",
      "Federalist Party, shown in pink. In contrast, Washington's Secretary of State, Thomas Jefferson, ended up leading an opposing faction and this\n",
      "eventually became what we now call the Democratic Republican Party shown in green. Although at the time, they were simply called the Republicans. The\n",
      "reason why historians now call them Democratic Republicans is to distinguish them from the current Republicans who are not directly related. Okay, so\n",
      "from 1789 to 1824, the Federalists and the Democratic Republicans were the two main parties. Generally speaking, the Federalists appealed more to the\n",
      "upper classes who lived in cities and owned businesses whereas the Democratic Republicans appealed more to farmers and everyday folk. You'll notice\n",
      "that around the year 1800, the pink line and the green line switch places. That's because on this chart, the party that controlled the presidency is\n",
      "always shown on top. So basically, the Federalists were dominant during Washington's tenure and then officially held the presidency under John Adams,\n",
      "who had been Washington's Vice President. But then in 1801, the Democratic Republicans took over with Thomas Jefferson being elected President.\n",
      "Jefferson is credited with strengthening America's democracy by getting more people to vote and for transferring power away from the aristocracy and\n",
      "towards the general public. Although keep in mind that at this point, the general public was limited to white males only. Whereas the Federalists\n",
      "wanted the US to be more like Britain, just without a king, the Democratic Republicans wanted the US to be more like France, which had just\n",
      "experienced the French Revolution. Which brings me to left-wing versus right-wing. Nowadays, these terms are pretty much synonymous with the words\n",
      "liberal and conservative. But originally, they actually had more to do with something else. They originated in France during the French Revolution\n",
      "when supporters of the king would sit on his right side and the supporters of the revolution would sit on his left side. So at this point, because the\n",
      "US didn't have a king, they didn't really have a right-wing party and a left-wing party. However, over time, the term right-wing has instead come to\n",
      "represent any group that wants to conserve the older traditional ways of doing things, whereas the term left-wing has come to represent those who want\n",
      "to progress forward. Now, the problem with dividing politics into right-wing and left-wing is that it often leads to a situation whereby neither side\n",
      "listens to the other. So, you get right-wingers relying only on right-wing sources and left-wingers relying only on left-wing sources. Which is why\n",
      "one of my favourite apps, Ground News is the perfect sponsor for this video. They combine the world's news from across the political spectrum in one\n",
      "place, so on any given story, you can compare coverage from all angles. For example, a story recently surfaced stating that Kamala Harris is ready to\n",
      "debate, with Donald Trump unsure. On Ground News, we can see over 300 articles were published on this story, with only 15% coming from right-leaning\n",
      "outlets, meaning it could be a blind spot for those readers. Or take, for example, this story exploring who is Ryan Wesley Routh, suspect in second\n",
      "Trump assassination attempt. Ground News published nearly 1,000 articles on the topic, with only 26% coming from left-leaning outlets. Ground News\n",
      "specifically surfaces these kinds of stories on their Blindspot feed, helping you have more productive conversations with family and friends on\n",
      "contentious topics. This is why Ground News is so useful. They even have useful charts. Like this one that lets you track your own reading habits and\n",
      "whether you might be getting biased information. So, with a major election approaching, Ground News is a tool that we all need. You can check it out\n",
      "now by going to ground.news.charts or by scanning the QR code. Subscribe through my channel this month and you will save 50% off unlimited access to\n",
      "their Vantage plan. Alright, back to the timeline of US political parties. Before we move on, I also want to point out this part of the chart down\n",
      "here where you can see a bunch of little pink and green squares. This shows which party controlled Congress, with the top square representing the\n",
      "Senate and the bottom square representing the House. So that's pretty cool. Moving along the main timeline, we see that Jefferson was followed by\n",
      "James Madison, who was president during the War of 1812. Following that war, the Federalist Party basically fizzled out, resulting in what's called\n",
      "the Era of Good Feeling, in which the U.S. experienced a renewed sense of nationalism and unity. This period coincided with the presidency of James\n",
      "Monroe, and during his eight years as president, it almost seemed as if party politics were going to become a thing of the past. But that, of course,\n",
      "was wishful thinking. Pretty soon, the Democratic-Republican party started to fracture into a bunch of different factions, setting the stage for a new\n",
      "set of parties. It started with the election of 1824, in which the only party, the Democratic Republicans, ran four different candidates for\n",
      "president. Andrew Jackson won the popular vote, as well as the most electoral college votes, but not enough to win a majority. Therefore, the House of\n",
      "Representatives was tasked with holding a contingent election, which was then won by John Quincy Adams, the son of the second President John Adams. At\n",
      "this point, what was technically one party started to split into two with the Adams supporters on one side and the Jackson supporters on the other.\n",
      "Eventually, the Jackson supporters started their own new party called the Democratic Party shown on this chart in yellow. Take note that this is the\n",
      "same Democratic Party that exists to this day. On the other hand, the Adams supporters became known as the National Republicans shown on the this\n",
      "chart in pink. They lost in 1828, which is when the Democrats elected their very first president, Andrew Jackson. Four years later, Jackson won again,\n",
      "which led the National Republicans to fall apart. By this point, several smaller third parties had formed, namely the Anti-Masonic Party, which, as\n",
      "the name implies, was mostly focused on criticizing Freemasons who they saw as elites who wielded too much power. As well as the Nullification Party,\n",
      "which wanted to give states the right to nullify federal laws. Basically, some of the nullifiers, combined with the National Republicans as well as\n",
      "the Anti-Masons, to form a new Whig Party. Thus, for the next little while, America once again had two main parties, the Democrats and the Whigs. You\n",
      "can see here from this very twisty portion that they switched back and forth quite a bit. In fact, this period marked the first time in US history\n",
      "where there were two parties very equally matched. You can see also that this period was quite chaotic, with a bunch of new third parties being formed\n",
      "as well. One of these was the Liberty Party, shown in pink, which wanted the abolition of slavery. It eventually merged with a democratic faction\n",
      "called the Barnburners to to form the Free Soil Party, shown in dark blue. The main goal of the Free Soil Party was to prevent the extension of\n",
      "slavery into America's newly acquired lands in the West. There was also the Native American Party, shown in purple, but don't be confused by the name.\n",
      "This was not a party made up of American Indians, but rather one made up of white Protestants who were very anti-immigration. Later, they were simply\n",
      "called the American But they were also known as the Know-Nothings because when outsiders asked about their movement, they would simply say, I know\n",
      "nothing. But then in 1854, the issue of slavery came to a head with the passing of the Kansas-Nebraska Act, which basically meant that slavery could\n",
      "be extended to those areas. At this point, the entire political landscape reoriented itself around the issue. In the North, Democrats who were anti-\n",
      "Nebraska joined with the majority of Whigs as well as the Free Soil Party to form a brand new anti-slavery party called the Republican Party, shown in\n",
      "red. This Republican Party is the one that still exists to this day. At the same time in the South, all the pro-slavery Whigs moved to either the\n",
      "Democrats or the American Party. Thus, in 1856, there were three main candidates. However, the Democrats still won, electing James Buchanan who today\n",
      "is considered to have been the worst president in US history. But then four years later in 1860 came what would become the most consequential US\n",
      "election of all time. This time, the Democrats split into two camps with the Northern Democrats and the Southern Democrats, each choosing their own\n",
      "candidate. In addition to this, the new Constitutional Union Party, mostly made up of former American party members, also fielded a candidate. In the\n",
      "end, all of this vote-splitting resulted in a victory for the anti-slavery Republicans, now led by Abraham Lincoln. But of course, it also resulted in\n",
      "the US Civil War, which is why you see the Confederates splitting off from the Democrats here. As you know, the North won that war and the United\n",
      "States became united once again. From here to the end of this chart, the Republicans remained in power, although technically Johnson was a Democrat,\n",
      "even though he was elected alongside Lincoln as part of the National Union ticket. So, for this last part of the chart, there is yet again two\n",
      "parties, this time the Republicans and the Democrats. If we zoom out, we can basically divide the first 100 years of US history into three main parts.\n",
      "From 1792 to 1825, there was the first party system consisting of the Federalists vs the Democratic Republicans. Then from 1828 to 1854, there was the\n",
      "second party system with the Democrats vs the Whigs. Finally, from 1854 through to the 1890s, there was a third party system with the Democrats versus\n",
      "the Republicans. Now, before I tell you about the 4th, 5th, and 6th systems, which are not shown on this chart, there are a few more things on here\n",
      "that I'd like to point out. First, take note of this line here, which represents the first time that formerly enslaved black Americans were able to\n",
      "vote. Well, at least the men. Nowadays, most black Americans tend to vote for the Democrats, but back then they mostly voted for Republicans. If they\n",
      "voted at all. Then there's this line here, labeled liberal, standing for liberal Republicans, who, during the 1872 elections, supported the Democratic\n",
      "candidate. Also shown is the temperance movement which drew from both Republicans and Democrats. It eventually led to the prohibition of alcohol but\n",
      "that didn't actually happen nationwide until 1920. Finally, there's the labour reform movement which started to gain traction in the late 1800s. Now,\n",
      "as you can see, this chart ends around the year 1880 which is when it was first published. A later edition extended it to 1892, showing the first\n",
      "post-Civil War Democrat to be elected, Grover Cleveland. But after that, there were sadly no more updates. Thus, in order to bring things up to date\n",
      "and tell you what happened between 1892 and today, I'm going to have to use a more recent chart. There are several out there, such as this timeline,\n",
      "but the one that I like best is this chart, created by Kathleen Cowell. As you can see, it shows the first three party systems, which we've already\n",
      "covered, but then goes on to show the rest as well, starting with the fourth. The fourth party system was a lot like the third, with the Republicans\n",
      "dominating in the North and the Democrats dominating in the South. But the main difference was the increasing focus on progressive issues by both\n",
      "parties. For example, this was the period when women fought for the right to vote, which they were granted nationally in 1920. All of this led up to\n",
      "the Great Realignment of 1932, which marked the transition to the Fifth Party system. Originally, the Republican Party was the more progressive one,\n",
      "the one that pushed for big government projects and the one that had its base in the North and in urban centers, whereas the Democratic Party was more\n",
      "conservative, wanted a smaller government, and was more popular in the South and in rural areas. However, starting with the New Deal programs of\n",
      "Franklin Roosevelt, things basically switched and have remained switched to this day. Take note that during the 5th party system, the Democrats held\n",
      "power most of the time. But during the 6th and current system, it's mostly been even. Now, some analysts argue that we are currently entering or have\n",
      "already entered a 7th party system, especially considering how much Trumpism has changed the Republican Party. But the jury's still out on that one. A\n",
      "lot will depend on how the current election pans out. Okay, so that was a look at the Timeline of US Political Parties. I'll leave a link to all the\n",
      "charts I've shown in the description. And be sure to subscribe to the channel because I'm currently working on an update of my own Timeline of US\n",
      "History chart which I hope to to release sometime next month.\n"
     ]
    }
   ],
   "source": [
    "t_wrap = textwrap.fill(t, width=150)\n",
    "print(t_wrap) "
   ]
  },
  {
   "cell_type": "code",
   "execution_count": null,
   "metadata": {},
   "outputs": [],
   "source": [
    "# 'facebook/bart-large-cnn'\n",
    "# 'knkarthick/MEETING_SUMMARY'\n",
    "# 'suriya7/bart-finetuned-text-summarization' \n",
    "\n",
    "\n",
    "def summarize(transcript, percent_len=.5):\n",
    "    \n",
    "    device = torch.device('cuda' if torch.cuda.is_available() else 'cpu')\n",
    "    \n",
    "    # model_name = 'sshleifer/distilbart-cnn-12-3'\n",
    "    # model_name = 'facebook/bart-large-cnn'\n",
    "    # model_name = 'knkarthick/MEETING_SUMMARY'\n",
    "    model_name = 'suriya7/bart-finetuned-text-summarization'\n",
    "    tokenizer = BartTokenizer.from_pretrained(model_name)\n",
    "    model = BartForConditionalGeneration.from_pretrained(model_name).to(device)\n",
    "    \n",
    "    # transcript = get_transcript(url) \n",
    "    \n",
    "    target_char_len = int(len(transcript) * percent_len)\n",
    "    curr_char_len = len(transcript)\n",
    "    \n",
    "    print(f'Transcript Length:\\t{len(transcript)}\\tTarget Char Length:\\t{target_char_len}')\n",
    "      \n",
    "    text_splitter = RecursiveCharacterTextSplitter(\n",
    "        chunk_size=800,\n",
    "        chunk_overlap=800 * .1\n",
    "    )\n",
    "\n",
    "    chunks = text_splitter.split_text(transcript)\n",
    "    print(f'Num Initial Chunks:\\t{len(chunks)}')\n",
    "    \n",
    "    count = 0\n",
    "    while curr_char_len > target_char_len:\n",
    "        chunk_summaries = []\n",
    "        \n",
    "        # linear\n",
    "        # scaling_factor = (curr_char_len - target_char_len) / target_char_len\n",
    "        # exponential\n",
    "        # scaling_factor = math.exp(-0.05 * (curr_char_len - target_char_len) / target_char_len)\n",
    "        \n",
    "        # sigmoid\n",
    "        k = 1.25  # sharp transition\n",
    "        scaling_factor = 1 / (1 + math.exp(-k * (curr_char_len - target_char_len) / target_char_len))\n",
    "        \n",
    "        min_max_len = 80\n",
    "        min_min_len = 50\n",
    "        \n",
    "        max_length = max(min_max_len, int(300 - scaling_factor * (300 - min_max_len)))  # Ensure max_length doesn't go below 100\n",
    "        min_length = max(min_min_len, int(150 - scaling_factor * (150 - min_min_len))) \n",
    "        \n",
    "\n",
    "        print(f'Max Length:\\t{max_length}\\tMin Length:\\t{min_length}\\tScaling Factor:\\t{round(scaling_factor, 2)}')\n",
    "        \n",
    "        for chunk in tqdm(chunks):\n",
    "            inputs = tokenizer(chunk, return_tensors='pt', max_length=1024, truncation=True).to(device)\n",
    "            outputs = model.generate(\n",
    "                inputs['input_ids'],\n",
    "                max_length=max_length, \n",
    "                min_length=min_length, \n",
    "                length_penalty=2, \n",
    "                num_beams=6,\n",
    "                no_repeat_ngram_size=3\n",
    "            )\n",
    "            chunk_summary = tokenizer.decode(outputs[0], skip_special_tokens=True)\n",
    "\n",
    "            chunk_summaries.append(chunk_summary)\n",
    "            \n",
    "        summary = ''.join([summary for summary in chunk_summaries])\n",
    "        summary = re.sub(r'\\s+\\.', '.', summary)\n",
    "        curr_char_len = len(summary)\n",
    "        print(f'Curr Char Length:\\t{curr_char_len}')\n",
    "        \n",
    "        count += 1\n",
    "        if curr_char_len <= target_char_len or (target_char_len * .9) <= curr_char_len <= (target_char_len * 1.1):\n",
    "            summary = re.sub(r'\\.(\\S)', r'. \\1', summary)\n",
    "            print(f'Output Char Length:\\t{curr_char_len}')\n",
    "            return summary\n",
    "        \n",
    "        chunks = text_splitter.split_text(summary)\n",
    "        print(f'Num chunks after {count} iterations:\\t{len(chunks)}\\tCurr Char Length:\\t{curr_char_len}\\tTarget Char Length:\\t{target_char_len}')"
   ]
  },
  {
   "cell_type": "code",
   "execution_count": null,
   "metadata": {},
   "outputs": [
    {
     "name": "stdout",
     "output_type": "stream",
     "text": [
      "Transcript Length:\t15913\tTarget Char Length:\t7956\n",
      "Num Initial Chunks:\t22\n",
      "Max Length:\t128\tMin Length:\t72\tScaling Factor:\t0.78\n"
     ]
    },
    {
     "name": "stderr",
     "output_type": "stream",
     "text": [
      "100%|██████████| 22/22 [00:28<00:00,  1.29s/it]"
     ]
    },
    {
     "name": "stdout",
     "output_type": "stream",
     "text": [
      "Curr Char Length:\t7714\n",
      "Output Char Length:\t7714\n"
     ]
    },
    {
     "name": "stderr",
     "output_type": "stream",
     "text": [
      "\n"
     ]
    }
   ],
   "source": [
    "final_output = summarize(t, .5) "
   ]
  },
  {
   "cell_type": "code",
   "execution_count": null,
   "metadata": {},
   "outputs": [
    {
     "name": "stdout",
     "output_type": "stream",
     "text": [
      "It's been a while since we've looked at a vintage chart, but it's time to get back to the old school again with a look at the US political party chart\n",
      "from the 1880s, which was published in the book Conspectus of the History of Political Parties and the Federal Government by Walter R. Houghton of\n",
      "Indiana University. The US has always had two main political parties, the Republicans and the Democrats, but there have been several other older\n",
      "parties as well, including the Whigs, the Federalists, the Democratic Republicans, and the Whig Party, according to a new study by Professor J. R.\n",
      "Houghton of Indiana University, who has been studying the history of US politics. During the American Revolution, the Whigs and the Tories were the\n",
      "two main political parties in the United States, with the Whig party being the party that supported the monarchy and the loyalist Tories those who\n",
      "opposed it, but the two parties have been at odds for much of the history of the country since the end of the Revolutionary War and the formation of\n",
      "the US. US President George Washington was a member of one of the two main factions of the US political parties, the Federalists and the Anti-\n",
      "Federalists, in the early 1800s, which were at odds with each other over the issue of state sovereignty and the role of the federal government in the\n",
      "United States of America, or the US Constitution, as it is known. From 1789 to 1824, the Federalists and the Democratic Republicans were the two main\n",
      "parties in the United States of America, but in the latter part of the 1800s, the party that controlled the White House, led by Thomas Jefferson,\n",
      "changed its name to the Democratic Republican Party, which is shown in the chart in the middle of the chart. The US has always been one of the most\n",
      "powerful countries in the world, but in the last 100 years, the US has seen a dramatic shift in its political power, as shown in the chart below, with\n",
      "the Federalists and the Democratic-Republicans in the US going from being the dominant party to being the second most powerful party in the country.\n",
      "The term right-wing and left-wing is a term that has been around for a long time, but it has its roots in the French Revolution, when the US didn't\n",
      "have a king and wanted to be more like France, which had just experienced the French revolution, and the US had a king at the time, so the term\n",
      "\"right-wing\" was used to refer to the supporters of the king. The term right-wing has come to represent those who want to preserve traditional ways of\n",
      "doing things, and left-wing represents those who are trying to make a difference to the way things are done in the world of political and social\n",
      "media, and in this video, we take a look at the two sides of the political divide in the US political landscape. Ground News, a news site, has created\n",
      "a \"Blindspot\" feed to help you keep tabs on what you're reading on the news, and whether it's coming from right-leaning or left-leaning sources, in\n",
      "order to find out if you're getting the information you need to make informed decisions about a topic you're interested in. The US political parties\n",
      "have been in power for more than 100 years, but how well do you know which party controls the US Congress and which party is in control of the White\n",
      "House and the US Senate in the US presidential election on 8 November? I've been working on this chart for a while, and I want to share it with you\n",
      "because I think it's important. After Thomas Jefferson was elected to the presidency of the United States in 1789, the history of the party system in\n",
      "the U. S. shows that he was the first to be followed by a Democratic-Republican president, then by a Republican president, and then by two more\n",
      "Democratic-Republicans, and finally by a third Democratic-Democratic president. After the election of Andrew Jackson as president in the United States\n",
      "of America on November 4, 1828, the Democratic Party split into two, with the Jackson supporters starting their own new party and the Adams supporters\n",
      "forming their own party, the National Republicans, which is shown on the chart in the middle of the chart. Take note that this is the same Democratic\n",
      "Party that exists to this day. After John Quincy Adams was elected president in 1824, his supporters formed the National Republican Party, which went\n",
      "on to lose to the Democratic Party in 1828, which led to the formation of the Whig Party, the party that would go on to become the main party in the\n",
      "US for the next 50 years, until the end of the 19th century. The US was once again divided into two major political parties, the Democrats and the\n",
      "Whigs, with the Democrats winning the popular vote for the first time since the Civil War in the first election in the US since the Revolutionary War,\n",
      "in 1776, in the election of 1776. In the following years, the two parties switched back and forth quite a bit, with one of the main goal of the\n",
      "Democratic Party being to stop the expansion of slavery. In the early 1800s, there were a number of political parties in the United States, including\n",
      "the Know-Nothings, the Free Soil Party, the American Party, and the Democratic-Republican Party, but the most important one was the Republican Party,\n",
      "which was formed in response to the passage of the Kansas-Nebraska Act, which allowed slavery to be extended to those areas. In 1856, the Democratic\n",
      "Party of the United States split into two camps, with the Northern Democrats and the Southern Democrats choosing their own candidates for the\n",
      "presidential election, and the pro-slavery Whigs and the Free Soil Party joined together to form the Republican Party, which went on to win the\n",
      "election in the US presidential election of 1856. The US was once again divided into two parties, the Democrats and the Republicans, with each party\n",
      "running their own candidate for the presidential election in the US in the 18th century, as shown in the chart below. In the US Civil War, the\n",
      "Confederates split from the Democrats to form the National Union Party, which led to the formation of the Republican Party of America. In the first\n",
      "100 years of US history, the US has had two parties, the Republicans and the Democrats, and a third party system with the Democrats versus the\n",
      "Republicans, as well as the 4th, 5th, and 6th party systems, which are not shown on this chart, but they have been in existence for more than 100\n",
      "years. This chart shows how the US political parties have changed over the years, starting with the election of 1872, when the first black Americans\n",
      "were able to vote in the US for the first time and ending with the end of the labour reform movement in the late 1800s and the birth of the temperance\n",
      "movement in 1892, to name just a few of the trends. This is an updated version of an earlier version of this article, which was published in the New\n",
      "York Times in 1880, showing the history of the US political parties. In this version, the US has had four party systems, with the Republicans\n",
      "dominating in the North, the Democrats in the South, and the Republicans in the East and the South in the West. In the early 20th century, the two\n",
      "main parties in the US were the Republican Party and the Democratic Party, with the Republicans in the North and the South, and the Democrats in the\n",
      "East and the West, as well as in the middle of the country and in rural areas, but in the 1930s and 1940s, the parties were very different. US\n",
      "political parties have been at odds for most of the history of the United States, with the exception of Franklin Roosevelt, who was the first to win\n",
      "re-election to the White House in the modern US political system, in the post-World War One era, in which the Democrats were in power for the majority\n",
      "of the time and the Republicans were in the minority.\n"
     ]
    }
   ],
   "source": [
    "text = textwrap.fill(final_output, width=150) \n",
    "print(text)"
   ]
  }
 ],
 "metadata": {
  "kernelspec": {
   "display_name": "transformer",
   "language": "python",
   "name": "python3"
  },
  "language_info": {
   "codemirror_mode": {
    "name": "ipython",
    "version": 3
   },
   "file_extension": ".py",
   "mimetype": "text/x-python",
   "name": "python",
   "nbconvert_exporter": "python",
   "pygments_lexer": "ipython3",
   "version": "3.12.7"
  }
 },
 "nbformat": 4,
 "nbformat_minor": 2
}
