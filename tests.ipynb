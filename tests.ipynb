{
 "cells": [
  {
   "cell_type": "code",
   "execution_count": 1,
   "metadata": {},
   "outputs": [
    {
     "name": "stderr",
     "output_type": "stream",
     "text": [
      "c:\\Users\\farns\\anaconda3\\envs\\transformer\\Lib\\site-packages\\tqdm\\auto.py:21: TqdmWarning: IProgress not found. Please update jupyter and ipywidgets. See https://ipywidgets.readthedocs.io/en/stable/user_install.html\n",
      "  from .autonotebook import tqdm as notebook_tqdm\n"
     ]
    }
   ],
   "source": [
    "from transformers import BartForConditionalGeneration, BartTokenizer\n",
    "from transcriptor import get_transcript\n",
    "import torch\n",
    "import textwrap\n",
    "from tqdm import tqdm\n",
    "import re"
   ]
  },
  {
   "cell_type": "code",
   "execution_count": null,
   "metadata": {},
   "outputs": [],
   "source": [
    "def summarize(transcript, percent_len):\n",
    "    \n",
    "    model_name = 'sshleifer/distilbart-xsum-12-1'\n",
    "    tokenizer = BartTokenizer.from_pretrained(model_name)\n",
    "    model = BartForConditionalGeneration.from_pretrained(model_name).to(device)\n",
    "    \n",
    "    # transcript = get_transcript(url) \n",
    "    \n",
    "    target_char_len = int(len(transcript) * percent_len)\n",
    "    curr_char_len = target_char_len + 1\n",
    "    \n",
    "    print(f'Transcript Length:\\t{len(transcript)} Target Char Length:\\t{target_char_len}')\n",
    "    \n",
    "    text_splitter = RecursiveCharacterTextSplitter(\n",
    "        chunk_size=700,\n",
    "        chunk_overlap=140\n",
    "    )\n",
    "\n",
    "    chunks = text_splitter.split_text(transcript)\n",
    "    print(f'Num Initial Chunks:\\t{len(chunks)}')\n",
    "    \n",
    "    while curr_char_len > target_char_len:\n",
    "        count = 0\n",
    "        chunk_summaries = []\n",
    "        for chunk in tqdm(chunks):\n",
    "            inputs = tokenizer(chunk, return_tensors='pt', max_length=1024, truncation=True).to(device)\n",
    "            outputs = model.generate(inputs['input_ids'], max_length=200, min_length=40, length_penalty=2, num_beams=4)\n",
    "            chunk_summary = tokenizer.decode(outputs[0], skip_special_tokens=True)\n",
    "\n",
    "            chunk_summaries.append(chunk_summary)\n",
    "            \n",
    "        summary = ''.join([summary for summary in chunk_summaries])\n",
    "        summary = re.sub(r'\\s+\\.', '.', text)\n",
    "        curr_char_len = len(summary)\n",
    "        print(f'Curr Char Length:\\t{curr_char_len}')\n",
    "        \n",
    "        if curr_char_len < target_char_len:\n",
    "            return summary\n",
    "        \n",
    "        chunks = text_splitter.split_text(summary)\n",
    "        count += 1\n",
    "        print(f'Num chunks after {count} iterations:\\t{chunks}')"
   ]
  },
  {
   "cell_type": "code",
   "execution_count": null,
   "metadata": {},
   "outputs": [],
   "source": [
    "t = get_transcript('https://www.youtube.com/watch?v=k0EdghetCMc')\n",
    "print('Transcription Completed!')"
   ]
  },
  {
   "cell_type": "code",
   "execution_count": null,
   "metadata": {},
   "outputs": [],
   "source": []
  }
 ],
 "metadata": {
  "kernelspec": {
   "display_name": "transformer",
   "language": "python",
   "name": "python3"
  },
  "language_info": {
   "codemirror_mode": {
    "name": "ipython",
    "version": 3
   },
   "file_extension": ".py",
   "mimetype": "text/x-python",
   "name": "python",
   "nbconvert_exporter": "python",
   "pygments_lexer": "ipython3",
   "version": "3.12.7"
  }
 },
 "nbformat": 4,
 "nbformat_minor": 2
}
