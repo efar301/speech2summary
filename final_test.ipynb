{
 "cells": [
  {
   "cell_type": "code",
   "execution_count": 1,
   "metadata": {},
   "outputs": [
    {
     "name": "stderr",
     "output_type": "stream",
     "text": [
      "c:\\Users\\farns\\anaconda3\\envs\\transformer\\Lib\\site-packages\\tqdm\\auto.py:21: TqdmWarning: IProgress not found. Please update jupyter and ipywidgets. See https://ipywidgets.readthedocs.io/en/stable/user_install.html\n",
      "  from .autonotebook import tqdm as notebook_tqdm\n"
     ]
    }
   ],
   "source": [
    "from transcriber import get_transcript\n",
    "from summarization import compound_summarize\n",
    "import textwrap"
   ]
  },
  {
   "cell_type": "code",
   "execution_count": 5,
   "metadata": {},
   "outputs": [
    {
     "name": "stdout",
     "output_type": "stream",
     "text": [
      "[youtube] Extracting URL: https://www.youtube.com/watch?v=Qe5WT22-AO8&t=26s\n",
      "[youtube] Qe5WT22-AO8: Downloading webpage\n",
      "[youtube] Qe5WT22-AO8: Downloading ios player API JSON\n",
      "[youtube] Qe5WT22-AO8: Downloading mweb player API JSON\n",
      "[youtube] Qe5WT22-AO8: Downloading player f8f53e1a\n"
     ]
    },
    {
     "name": "stderr",
     "output_type": "stream",
     "text": [
      "WARNING: [youtube] Falling back to generic n function search\n",
      "         player = https://www.youtube.com/s/player/f8f53e1a/player_ias.vflset/en_US/base.js\n",
      "WARNING: [youtube] Qe5WT22-AO8: nsig extraction failed: Some formats may be missing\n",
      "         n = nAV0xOeSK81ax2UvMxr ; player = https://www.youtube.com/s/player/f8f53e1a/player_ias.vflset/en_US/base.js\n",
      "WARNING: [youtube] Falling back to generic n function search\n",
      "         player = https://www.youtube.com/s/player/f8f53e1a/player_ias.vflset/en_US/base.js\n",
      "WARNING: [youtube] Qe5WT22-AO8: nsig extraction failed: Some formats may be missing\n",
      "         n = 05IJBjOHBuzprCLAM5L ; player = https://www.youtube.com/s/player/f8f53e1a/player_ias.vflset/en_US/base.js\n"
     ]
    },
    {
     "name": "stdout",
     "output_type": "stream",
     "text": [
      "[youtube] Qe5WT22-AO8: Downloading m3u8 information\n",
      "[info] Qe5WT22-AO8: Downloading 1 format(s): 251\n",
      "[download] Destination: audio.webm\n",
      "[download] 100% of   80.17MiB in 00:00:03 at 21.17MiB/s    \n",
      "[ExtractAudio] Destination: audio.mp3\n",
      "Deleting original file audio.webm (pass -k to keep)\n"
     ]
    },
    {
     "name": "stderr",
     "output_type": "stream",
     "text": [
      "c:\\Users\\farns\\anaconda3\\envs\\transformer\\Lib\\site-packages\\transformers\\models\\whisper\\generation_whisper.py:509: FutureWarning: The input name `inputs` is deprecated. Please make sure to use `input_features` instead.\n",
      "  warnings.warn(\n",
      "Due to a bug fix in https://github.com/huggingface/transformers/pull/28687 transcription using a multilingual Whisper will default to language detection followed by transcription instead of translation to English.This might be a breaking change for your use case. If you want to instead always translate your audio to English, make sure to pass `language='en'`.\n",
      "Passing a tuple of `past_key_values` is deprecated and will be removed in Transformers v4.43.0. You should pass an instance of `EncoderDecoderCache` instead, e.g. `past_key_values=EncoderDecoderCache.from_legacy_cache(past_key_values)`.\n"
     ]
    }
   ],
   "source": [
    "t = get_transcript('https://www.youtube.com/watch?v=Qe5WT22-AO8&t=26s')"
   ]
  },
  {
   "cell_type": "code",
   "execution_count": 11,
   "metadata": {},
   "outputs": [
    {
     "name": "stderr",
     "output_type": "stream",
     "text": [
      "100%|██████████| 8/8 [00:54<00:00,  6.84s/it]\n",
      "Some weights of RobertaModel were not initialized from the model checkpoint at roberta-large and are newly initialized: ['roberta.pooler.dense.bias', 'roberta.pooler.dense.weight']\n",
      "You should probably TRAIN this model on a down-stream task to be able to use it for predictions and inference.\n"
     ]
    }
   ],
   "source": [
    "summary = compound_summarize(t, length='extra_short', include_metrics=True)"
   ]
  },
  {
   "cell_type": "code",
   "execution_count": 12,
   "metadata": {},
   "outputs": [
    {
     "name": "stdout",
     "output_type": "stream",
     "text": [
      "Enrico Fermi, Italy's top physicist, was hailed as the luckiest man to ever win a Nobel Prize at the age of 24 after being made a professor at the\n",
      "University of Rome, where his commanding presence earned him the nickname of the Pope. However, his success was short-lived, as Italy's dominance in\n",
      "science had long since fallen off since the days of Galileo, and he and his team had to contend with the challenges of creating new elements. The\n",
      "periodic table at the time was incomplete, with a few gaps in the middle regions, including elements like technidium, francium, astatine, and\n",
      "promethium. Unstable elements often lead to something called an \"unstable decay chain,\" where a nucleus spits out neutrons, resulting in an element\n",
      "with one extra proton, such as nitrogen. Fermii's idea was to artificially induce beta decay in uranium, and if successful, he would upgrade element\n",
      "92 into 93, possibly even 94. The process involved adding or removing protons, comparing the chemistry of all known elements, and verifying which\n",
      "elements they hadn't created, ultimately leading to the heaviest element in the known world, element 92, which is also known as uranium. This process\n",
      "is complicated by the fact that elements are determined by their proton number, with certain elements more stable than others, and others, like carbon\n",
      "12, extremely stable, staying in that form untouched for billions of years. Meanwhile, radioactive elements, like radium, emit energy imbalance and\n",
      "can penetrate into the bloodstream, highlighting the importance of careful handling and handling of radioactive materials.The periodic table is marked\n",
      "by a mountainous peninsula surrounded by a raging sea of radioactivity, marked by tides that often sweep away elements in an alpha decay chain. Enrico\n",
      "Fermi, one of the first to explore this chasm, made it as far as the uranium chasm before being pushed back to shore by the radiation. He would go on\n",
      "to do important things, including building the first nuclear reactor under the stands of a Chicago football field. Meanwhile, Edwin McMillan and Phil\n",
      "Abelson made the groundbreaking discovery of Element 93 at the University of California, Berkeley, using the world's largest cyclotron to rapidly spin\n",
      "charged particles. The discovery was met with silence from the academic community, fearing it would give the Germans inspiration. Over the next 50\n",
      "years, several labs would make pilgrimage up the mountain, filling out more and more of the chart, and eventually, Element 93 was confirmed as\n",
      "Neptunium. The story takes a dramatic turn when Viktor Ninov, an intrepid scientist, claims to have made it up to the top of the mountain pass, but\n",
      "ultimately, it is revealed that the search for new elements is led by Glenn Seaborg, a descendant of Swedish immigrants, who had left his home country\n",
      "with the last name of Schoberg to embark on a journey through the periodic table and eventually become a key figure in the discovery of the real\n",
      "Element 93, a discovery that was surprisingly unceremonial at the time, despite being celebrated by the scientific community.The Soviet nuclear\n",
      "program was founded by Georgi Flerov, a volunteer lieutenant on the Eastern Front, who had been following the topic of nuclear fission closely before\n",
      "the war. However, after the war, he shifted his focus to element hunting, founded JINR in Dubna, a small Russian town. Element hunting is a complex\n",
      "process that involves aiming a beam at a target and leaving it firing for months, which can be extremely expensive, depending on the lab and beam\n",
      "type. Given the vast amount of uranium on earth, with a half-life of 25,000 years, finding a large enough uranium target to fire neutrons at is\n",
      "relatively easy. The process of making new elements, including plutonium, curium, and einsteinium, can be challenging, but with unlimited time and\n",
      "money, it becomes easier. Berkeley, the richest state in the world, had the most money and equipment, making it easy for them to get lucky. Meanwhile,\n",
      "the Americans were building a bomb, but the Soviets were lagging behind, largely due to their focus on metallurgy. Despite these challenges, element\n",
      "hunting persisted, and eventually, it became a geopolitical rivalry between the US and the USSR, with the US using it as a tool to help fight the Cold\n",
      "War, and the Soviets using it to develop their own nuclear program, which ultimately led to the discovery of the first new element in 93 to 101 years,\n",
      "known as 102, by a team with some sort of tie to Berkeley.The element hunt reached a turning point in the 1980s, with the discovery of element 106,\n",
      "which was announced by Berkeley and Dubna the same month, despite being too close to call. This breakthrough marked a significant shift in tactics,\n",
      "from using expensive radioactive targets to using smaller, more reliable targets like lead and iron. The discovery of Element 106 was accompanied by\n",
      "the naming of other elements, including 107, 109, and 108, as well as a living scientist's name, Cyborgium. However, the search for new elements was\n",
      "hindered by the Soviet Union's economic collapse and the inability of the American team to compete. The International Union for Nuclear Research\n",
      "(IUPAC) played a crucial role in determining the names of elements, requiring stable nuclei to exist for over 10 to the negative 14 seconds, and\n",
      "ultimately settling on a compromise that satisfied everyone. Meanwhile, Berkeley, Dubna, and GSI worked together to develop new beam technology and\n",
      "equipment, including a beam capable of firing elements as heavy as chromium, iron, or bismuth, which would hit lead targets. Ultimately, Element 106\n",
      "would be the last element discovered at Berkeley, marking a significant milestone in the evolution of the element hunt and the beginning of a new era\n",
      "in the field of nuclear physics.Notes: 1) IUPAC is not responsible for naming elements, but rather the scientists who come up with the names, and 2)\n",
      "the Soviet team was out of money and had no hope of going further, and the Americans were out of ideas.Al Giorso was a key figure in Berkeley's\n",
      "element hunting team, recruited by Glenn Seaborg when he joined the Manhattan Project after the war. Gyorso, who was gifted at making homemade Geiger\n",
      "counters, played a key role in the team's efforts, including holding the world record for the longest range ham radio in the 1940s. He also played a\n",
      "significant role in investigating element hunting, often jumping into his Volkswagen Beetle and racing at high speeds up the Berkeley hill to test\n",
      "samples. When Berkeley had an accidental radiation emergency, Goryso was the first to exit the building after shutting down the accelerator. Nearly\n",
      "half a century later, he was the last remaining key figure from Berkeley's glory days. The team, led by Ken Gregorich, had just made the claim for\n",
      "Element 114 and was eager to try and scoop the element with a more convincing experiment. However, they faced several challenges, including the\n",
      "illegal use of plutonium-244 and calcium-48, which were illegal to use in densely populated areas, and the need for a new recipe. Meanwhile, Robert\n",
      "Smolenshuk, a theoretical physicist, had published a paper showing that a certain recipe was actually more likely to occur than others, and he\n",
      "proposed a plan to fire Krypton-86 at a lead-208 target, which was thought to be too good to be true. As the team worked to quantify the probability\n",
      "of hitting the element, they came up with a clever unit of measurement, the barn, which is a hybrid of cross-sectional area and probability of a\n",
      "collision between two particles.The Berkeley team, led by Viktor Ninove, had a bright future ahead of them, with potentially five elements under their\n",
      "belt, but their breakthrough was short-lived. When they attempted to replicate Robert's magical recipe, they failed to detect the alpha decay chain\n",
      "that Ninove had recorded, and similar experiments in France and Japan also came up blank. Meanwhile, Ninove was on the conference circuit, refusing to\n",
      "discuss his breakthrough and deflecting questions about his potentially career-defining discovery. The Berkeley team's re-run in spring of 2000 failed\n",
      "to reproduce the event, and they became increasingly concerned. In June 2001, Darlene Hoffman assembled a working group to sift through raw data files\n",
      "and verify the results, leading to a new independent review committee and a formal investigation into alleged scientific misconduct. The investigation\n",
      "revealed that the raw data had been tampered with, either intentionally or accidentally, and that the beam was actually made of krypton and not\n",
      "contaminated by other elements. Despite this, the Berkeley team continued to work towards testing their new setup, and by April 2001, they finally\n",
      "received a detection of 118. However, this detection was only one of a single Alpha decay chain, and Ninove's results showed that 118 wasn't there.\n",
      "The situation spiraled out of control, and Berkeley was forced to undergo a series of internal investigations, including one led by Kit Chapman, which\n",
      "ultimately led to the firing of someone responsible for the failure to repeat the experiment and the overhaul of their detector system.Viktor Ninove,\n",
      "the first author on the paper, was accused of tampering with the data, but his innocence was maintained throughout the investigation. The committee\n",
      "found that Ninove's log files showed the correct outputs, but when compared to those made into the published paper, there were significant differences\n",
      "in energy values and time values. Ninove was asked by the committee whether he thought Goosey could have corrupted the data and initially offered\n",
      "multiple versions of a bizarre conspiracy, including jealousy and sabotage. However, the committee later discovered that every suspicious log file\n",
      "belonged to the same user account, and the user account name settled the argument as to who exactly tampered with the log files. Despite being placed\n",
      "on paid administrative leave, Ninove continued to fight for his innocence, arguing that everyone in the lab technically had access to the account.\n",
      "Later, when the committee asked Ninove to reproduce figure 2, he produced approximate versions of A, B, and C, but couldn't reproduce figure D using\n",
      "any analysis program. The investigation ultimately revealed that the entire fundamental basis for the paper was made up, and Ninove had only been\n",
      "involved in analyzing three times, with the only record of a detection of 118 being on two hand-drawn pieces of paper from Ninove. Ultimately, Ninov\n",
      "was found to be the culprit, and he was forced to retract the paper and hire legal counsel, highlighting the complexity of the investigation and the\n",
      "potential for manipulation of the data to alter the final results of the paper.Viktor Ninov, a physicist at the University of California, was involved\n",
      "in a major physics fraud scheme with his co-author, Sigurd. Ninav attempted to fake five new elements, including 111, but ultimately got away with his\n",
      "first two fakes due to his team's discovery of the real thing soon after. Sigurd, on the advice of his boss, investigated the raw data files and found\n",
      "a single decay chain for element 110 that had been manipulated in the same way. The fraud was part of a larger pattern of sloppy work in the element\n",
      "race, a highly competitive field prone to labs doing sloppy work just to gain first dibs on an element, and was likely motivated by a desire to\n",
      "outmaneuver Berkeley, a once dominant institution that had not won a major prize in over 25 years. In contrast, Jan Hendrik Schon was fired from Bell\n",
      "Labs for faking years worth of data on organic semiconductors, and the American Physical Society revised its guidelines on research misconduct in\n",
      "response to the Ninov fraud. Despite these diverges, the underlying motive for the fraud remains unclear, with some suspect that Ninov was trying to\n",
      "outsmart Berkley's rivals by planting his flag on a discovery he thought was a safe bet. Ultimately, the fraud had a lasting impact on the field,\n",
      "although the exact extent of the damage is unclear. The incident highlights the importance of co-authors vouching for their colleagues' work and the\n",
      "need for transparency in the field of physics.\n",
      "\n",
      "Metrics:\n",
      "precision        = 0.85      recall           = 0.85      f1               = 0.85\n",
      "text chunk size  = 9603      num chunks       = 8\n",
      "original length  = 76828     summary length   = 12195\n"
     ]
    }
   ],
   "source": [
    "wrapped = '\\n'.join(textwrap.fill(paragraph, width=150) for paragraph in summary.split('\\n'))\n",
    "print(wrapped)"
   ]
  }
 ],
 "metadata": {
  "kernelspec": {
   "display_name": "transformer",
   "language": "python",
   "name": "python3"
  },
  "language_info": {
   "codemirror_mode": {
    "name": "ipython",
    "version": 3
   },
   "file_extension": ".py",
   "mimetype": "text/x-python",
   "name": "python",
   "nbconvert_exporter": "python",
   "pygments_lexer": "ipython3",
   "version": "3.12.7"
  }
 },
 "nbformat": 4,
 "nbformat_minor": 2
}
